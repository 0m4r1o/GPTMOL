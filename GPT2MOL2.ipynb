{
 "cells": [
  {
   "cell_type": "markdown",
   "id": "d4a49829",
   "metadata": {},
   "source": [
    "# Imports"
   ]
  },
  {
   "cell_type": "code",
   "execution_count": 1,
   "id": "77e7416a",
   "metadata": {},
   "outputs": [
    {
     "name": "stderr",
     "output_type": "stream",
     "text": [
      "C:\\Users\\ZZ010Q784\\AppData\\Roaming\\Python\\Python39\\site-packages\\transformers\\adapters\\__init__.py:27: FutureWarning: The `adapter-transformers` package is deprecated and replaced by the `adapters` package. See https://docs.adapterhub.ml/transitioning.html.\n",
      "  warnings.warn(\n"
     ]
    }
   ],
   "source": [
    "_fscores = None\n",
    "import os.path as op\n",
    "import pandas as pd\n",
    "from rdkit import Chem\n",
    "from sklearn.model_selection import train_test_split\n",
    "from torch.utils.data import Dataset, DataLoader\n",
    "from transformers import GPT2Tokenizer, GPT2LMHeadModel, AdamW\n",
    "import torch\n",
    "import pickle\n",
    "from rdkit import Chem\n",
    "from rdkit.Chem import rdMolDescriptors\n",
    "from rdkit.Chem.Descriptors import ExactMolWt\n",
    "import pickle\n",
    "import torch.nn.functional as F\n",
    "from tqdm import tqdm\n",
    "from rdkit import RDLogger, Chem, DataStructs\n",
    "from rdkit.Chem import AllChem, Draw, Descriptors\n",
    "from rdkit.Chem.Draw import IPythonConsole\n",
    "import math\n",
    "from collections import defaultdict\n",
    "from rdkit.Chem import Crippen\n",
    "\n",
    "import os.path as op"
   ]
  },
  {
   "cell_type": "markdown",
   "id": "f37afcdb",
   "metadata": {},
   "source": [
    "# Util functions"
   ]
  },
  {
   "cell_type": "code",
   "execution_count": 3,
   "id": "a98cccdf",
   "metadata": {},
   "outputs": [],
   "source": [
    "def tokenize_smiles(smiles):\n",
    "    return list(smiles)\n",
    "class SMILESDataset(Dataset):\n",
    "    def __init__(self, smiles_list, tokenizer):\n",
    "        self.smiles_list = smiles_list\n",
    "        self.tokenizer = tokenizer\n",
    "\n",
    "    def __len__(self):\n",
    "        return len(self.smiles_list)\n",
    "\n",
    "    def __getitem__(self, idx):\n",
    "        smiles = self.smiles_list[idx]\n",
    "        input_ids = self.tokenizer.encode(smiles, return_tensors='pt').squeeze()\n",
    "        return input_ids\n",
    "def collate_fn(batch):\n",
    "    # Pad sequences to the same length\n",
    "    max_length = max([item.size(0) for item in batch])\n",
    "    padded_batch = torch.stack([F.pad(item, (0, max_length - item.size(0)), value=tokenizer.pad_token_id) for item in batch])\n",
    "    return padded_batch"
   ]
  },
  {
   "cell_type": "code",
   "execution_count": null,
   "id": "2ab68452",
   "metadata": {},
   "outputs": [],
   "source": []
  },
  {
   "cell_type": "code",
   "execution_count": 4,
   "id": "5dba625d",
   "metadata": {},
   "outputs": [],
   "source": [
    "def validate_mols(list_of_smiles):\n",
    "    valid_mols = []\n",
    "    for smi in list_of_smiles:\n",
    "        mol = Chem.MolFromSmiles(smi)\n",
    "        if mol is not None:\n",
    "            valid_mols.append(mol)\n",
    "    return valid_mols\n",
    "\n",
    "def convert_mols_to_smiles(list_of_mols):\n",
    "    valid_smiles = [Chem.MolToSmiles(mol) for mol in list_of_mols]\n",
    "    return valid_smiles\n",
    "\n",
    "def smi_to_mols(smiles):\n",
    "    valid_mols = []\n",
    "    for smi in smiles:\n",
    "        mol = Chem.MolFromSmiles(smi)\n",
    "        if mol is not None:\n",
    "            valid_mols.append(mol)\n",
    "    return valid_mols\n",
    "\n",
    "def mol_to_smi(mols):\n",
    "    valid_smiles = [Chem.MolToSmiles(mol) for mol in mols]\n",
    "    return valid_smiles"
   ]
  },
  {
   "cell_type": "code",
   "execution_count": 5,
   "id": "dba6b5a3",
   "metadata": {},
   "outputs": [],
   "source": [
    "\n",
    "def readFragmentScores(name='fpscores'):\n",
    "    import gzip\n",
    "    global _fscores\n",
    "    # generate the full path filename:\n",
    "#     if name == \"fpscores\":\n",
    "#         name = op.join(op.dirname(__file__), name)\n",
    "    data = pickle.load(gzip.open('fpscores.pkl.gz'))\n",
    "    outDict = {}\n",
    "    for i in data:\n",
    "        for j in range(1, len(i)):\n",
    "            outDict[i[j]] = float(i[0])\n",
    "    _fscores = outDict\n",
    "\n",
    "\n",
    "def numBridgeheadsAndSpiro(mol, ri=None):\n",
    "    nSpiro = rdMolDescriptors.CalcNumSpiroAtoms(mol)\n",
    "    nBridgehead = rdMolDescriptors.CalcNumBridgeheadAtoms(mol)\n",
    "    return nBridgehead, nSpiro\n",
    "\n",
    "\n",
    "def calculateScore(m):\n",
    "    if _fscores is None:\n",
    "        readFragmentScores()\n",
    "\n",
    "    # fragment score\n",
    "    fp = rdMolDescriptors.GetMorganFingerprint(m,\n",
    "                                               2)  # <- 2 is the *radius* of the circular fingerprint\n",
    "    fps = fp.GetNonzeroElements()\n",
    "    score1 = 0.\n",
    "    nf = 0\n",
    "    for bitId, v in fps.items():\n",
    "        nf += v\n",
    "        sfp = bitId\n",
    "        score1 += _fscores.get(sfp, -4) * v\n",
    "    score1 /= nf\n",
    "\n",
    "    # features score\n",
    "    nAtoms = m.GetNumAtoms()\n",
    "    nChiralCenters = len(Chem.FindMolChiralCenters(m, includeUnassigned=True))\n",
    "    ri = m.GetRingInfo()\n",
    "    nBridgeheads, nSpiro = numBridgeheadsAndSpiro(m, ri)\n",
    "    nMacrocycles = 0\n",
    "    for x in ri.AtomRings():\n",
    "        if len(x) > 8:\n",
    "            nMacrocycles += 1\n",
    "\n",
    "    sizePenalty = nAtoms**1.005 - nAtoms\n",
    "    stereoPenalty = math.log10(nChiralCenters + 1)\n",
    "    spiroPenalty = math.log10(nSpiro + 1)\n",
    "    bridgePenalty = math.log10(nBridgeheads + 1)\n",
    "    macrocyclePenalty = 0.\n",
    "    # ---------------------------------------\n",
    "    # This differs from the paper, which defines:\n",
    "    #  macrocyclePenalty = math.log10(nMacrocycles+1)\n",
    "    # This form generates better results when 2 or more macrocycles are present\n",
    "    if nMacrocycles > 0:\n",
    "        macrocyclePenalty = math.log10(2)\n",
    "\n",
    "    score2 = 0. - sizePenalty - stereoPenalty - spiroPenalty - bridgePenalty - macrocyclePenalty\n",
    "\n",
    "    # correction for the fingerprint density\n",
    "    # not in the original publication, added in version 1.1\n",
    "    # to make highly symmetrical molecules easier to synthetise\n",
    "    score3 = 0.\n",
    "    if nAtoms > len(fps):\n",
    "        score3 = math.log(float(nAtoms) / len(fps)) * .5\n",
    "\n",
    "    sascore = score1 + score2 + score3\n",
    "\n",
    "    # need to transform \"raw\" value into scale between 1 and 10\n",
    "    min = -4.0\n",
    "    max = 2.5\n",
    "    sascore = 11. - (sascore - min + 1) / (max - min) * 9.\n",
    "    # smooth the 10-end\n",
    "    if sascore > 8.:\n",
    "        sascore = 8. + math.log(sascore + 1. - 9.)\n",
    "    if sascore > 10.:\n",
    "        sascore = 10.0\n",
    "    elif sascore < 1.:\n",
    "        sascore = 1.0\n",
    "\n",
    "    return sascore"
   ]
  },
  {
   "cell_type": "code",
   "execution_count": 6,
   "id": "d06ca8f6",
   "metadata": {},
   "outputs": [],
   "source": [
    "\n",
    "def generate_smiles(prompt, max_length=100):\n",
    "    inputs = tokenizer.encode(prompt, return_tensors='pt')#.to('cuda')\n",
    "    outputs = model.generate(inputs, max_length=max_length, num_return_sequences=1)\n",
    "    smiles = tokenizer.decode(outputs[0], skip_special_tokens=True)\n",
    "    return smiles\n"
   ]
  },
  {
   "cell_type": "code",
   "execution_count": 7,
   "id": "8b89125e",
   "metadata": {},
   "outputs": [],
   "source": [
    "def curate(l):\n",
    "    l = [s.replace('!','').replace('<BOS>','') for s in l]\n",
    "    return l"
   ]
  },
  {
   "cell_type": "code",
   "execution_count": 8,
   "id": "e343c5a9",
   "metadata": {},
   "outputs": [],
   "source": [
    "\n",
    "def iterate_alpha(alpha_code):\n",
    "    numbers = []\n",
    "    for letter in alpha_code:\n",
    "        number = ord(letter)\n",
    "        numbers.append(number)\n",
    "    \n",
    "    if numbers[3]+1 > 90:\n",
    "        if numbers[2]+1 > 90:\n",
    "            if numbers[1]+1 > 90:\n",
    "                if numbers[0]+1 > 90:\n",
    "                    raise ValueError('Too long for alpha code')\n",
    "                else:\n",
    "                    numbers[3] = 65\n",
    "                    numbers[2] = 65\n",
    "                    numbers[1] = 65\n",
    "                    numbers[0] = numbers[0] + 1\n",
    "            else:\n",
    "                numbers[3] = 65\n",
    "                numbers[2] = 65\n",
    "                numbers[1] = numbers[1] + 1\n",
    "        else:\n",
    "            numbers[3] = 65\n",
    "            numbers[2] = numbers[2] + 1\n",
    "    else:\n",
    "        numbers[3] = numbers[3] + 1\n",
    "    \n",
    "\n",
    "    new_code = \"\"\n",
    "    for number in numbers:\n",
    "        new_code += chr(number)\n",
    "    return new_code"
   ]
  },
  {
   "cell_type": "code",
   "execution_count": 9,
   "id": "7fee5d3a",
   "metadata": {},
   "outputs": [],
   "source": [
    "\n",
    "def write_gen_to_sdf(mols_for_export, generation):\n",
    "\tid_code = 'AAAA'\n",
    "\tmols_to_export = []\n",
    "\tfor mol in mols_for_export:\n",
    "\t\tcodes.append(id_code)\n",
    "\t\t\n",
    "\t\tpm = Chem.PropertyMol.PropertyMol(mol)\n",
    "\t\ttitle = 'id' + str(id_code) + 'gen'+ str(generation)\n",
    "\t\t# print(title \t\t)\n",
    "\t\t# Enables for tracking which molecule is which in PyRx GUI and PyRx results export\n",
    "\t\tpm.SetProp('Title', title)\n",
    "\t\tmols_to_export.append(pm)\n",
    "\t\tid_code = iterate_alpha(id_code)\n",
    "\t\n",
    "\thalf_len = int(len(mols_to_export)*3/4)\n",
    "\tfull_len = len(mols_to_export)\n",
    "\tfirst_batch_mol = list(mols_to_export[0:half_len])\n",
    "\tsecond_batch_mol = list(mols_to_export[half_len:full_len])\n",
    "\n",
    "\n",
    "\n",
    "\n",
    "\tw = Chem.SDWriter('./generations/gen' +generation+ '-1.sdf')\n",
    "\tfor m in first_batch_mol: w.write(m)\n",
    "\t# Noticed an issue where the very last line item of an sdf write is not written correctly until another arbitary write is made\n",
    "\tw = Chem.SDWriter('./generations/junk/todelete.sdf')\n",
    "\tw.write(m)\n",
    "\t\n",
    "\tx = Chem.SDWriter('./generations/gen' +generation+ '-2.sdf')\n",
    "\tfor m in second_batch_mol: x.write(m)\n",
    "\t# Noticed an issue where the very last line item of an sdf write is not written correctly until another arbitary write is made\n",
    "\tx = Chem.SDWriter('./generations/junk/todelete.sdf')\n",
    "\tx.write(m)"
   ]
  },
  {
   "cell_type": "code",
   "execution_count": 10,
   "id": "a492be53",
   "metadata": {},
   "outputs": [],
   "source": [
    "from Bio.PDB import PDBParser\n",
    "import numpy as np\n",
    "\n",
    "def calculate_center_and_size(pdb_file, binding_site_residues, chain_id='A'):\n",
    "    parser = PDBParser()\n",
    "    structure = parser.get_structure('protein', pdb_file)\n",
    "    model = structure[0]\n",
    "    chain = model[chain_id]\n",
    "\n",
    "    # Get the coordinates of the binding site residues\n",
    "    coords = []\n",
    "    for res_id in binding_site_residues:\n",
    "        residue = chain[res_id]\n",
    "        for atom in residue:\n",
    "            coords.append(atom.coord)\n",
    "\n",
    "    coords = np.array(coords)\n",
    "    center = coords.mean(axis=0)\n",
    "    size = coords.max(axis=0) - coords.min(axis=0)\n",
    "\n",
    "    return center, size"
   ]
  },
  {
   "cell_type": "markdown",
   "id": "8b6f69c8",
   "metadata": {},
   "source": [
    "## Lipsinki rule of 5 / Ro5\n",
    "\n",
    "The rule of 5 indicates that poor absorption is more likely to occur when there are more than (i) 5 hydrogen-bond donors, (ii) 10 (5 × 2) hydrogen-bond acceptors, (iii) a molecular weight greater than 500 (5 × 100), and (iv) a calculated Log P (cLogP) greater than 5. "
   ]
  },
  {
   "cell_type": "code",
   "execution_count": 32,
   "id": "cacae2bf",
   "metadata": {},
   "outputs": [],
   "source": [
    "def GetMolW(smi):\n",
    "    molecule = Chem.MolFromSmiles(smi)\n",
    "    return Descriptors.MolWt(molecule)"
   ]
  },
  {
   "cell_type": "code",
   "execution_count": 15,
   "id": "0ec776c8",
   "metadata": {},
   "outputs": [
    {
     "data": {
      "text/plain": [
       "46.069"
      ]
     },
     "execution_count": 15,
     "metadata": {},
     "output_type": "execute_result"
    }
   ],
   "source": [
    "GetMolW('CCO')"
   ]
  },
  {
   "cell_type": "code",
   "execution_count": 16,
   "id": "d3bb6604",
   "metadata": {},
   "outputs": [],
   "source": [
    "def getHbondDonors(smi):\n",
    "    molecule = Chem.MolFromSmiles(smi)\n",
    "    return Chem.Lipinski.NumHDonors(molecule)"
   ]
  },
  {
   "cell_type": "code",
   "execution_count": 18,
   "id": "2dd34243",
   "metadata": {},
   "outputs": [
    {
     "data": {
      "text/plain": [
       "1"
      ]
     },
     "execution_count": 18,
     "metadata": {},
     "output_type": "execute_result"
    }
   ],
   "source": [
    "getHbondDonors('CCO')"
   ]
  },
  {
   "cell_type": "code",
   "execution_count": 19,
   "id": "6a7f30bd",
   "metadata": {},
   "outputs": [],
   "source": [
    "def getHbondAcceptors(smi):\n",
    "    molecule = Chem.MolFromSmiles(smi)\n",
    "    return Chem.Lipinski.NumHAcceptors(molecule)"
   ]
  },
  {
   "cell_type": "code",
   "execution_count": 20,
   "id": "f2b012a3",
   "metadata": {},
   "outputs": [
    {
     "data": {
      "text/plain": [
       "1"
      ]
     },
     "execution_count": 20,
     "metadata": {},
     "output_type": "execute_result"
    }
   ],
   "source": [
    "getHbondAcceptors('CCO')"
   ]
  },
  {
   "cell_type": "code",
   "execution_count": 21,
   "id": "679e6cad",
   "metadata": {},
   "outputs": [],
   "source": [
    "def getLogP(smi):\n",
    "    molecule = Chem.MolFromSmiles(smi)\n",
    "    return Crippen.MolLogP(molecule)"
   ]
  },
  {
   "cell_type": "code",
   "execution_count": 22,
   "id": "ffd3643f",
   "metadata": {},
   "outputs": [
    {
     "data": {
      "text/plain": [
       "-0.0014000000000000123"
      ]
     },
     "execution_count": 22,
     "metadata": {},
     "output_type": "execute_result"
    }
   ],
   "source": [
    "getLogP('CCO')"
   ]
  },
  {
   "cell_type": "code",
   "execution_count": 23,
   "id": "bbc6c91f",
   "metadata": {},
   "outputs": [],
   "source": [
    "def getQED(smi):\n",
    "    molecule = Chem.MolFromSmiles(smi)\n",
    "    return Chem.QED.qed(molecule)"
   ]
  },
  {
   "cell_type": "markdown",
   "id": "bc6b91bd",
   "metadata": {},
   "source": [
    "The closer the score is to 1, the more drug-like the molecule."
   ]
  },
  {
   "cell_type": "code",
   "execution_count": 24,
   "id": "c3ebe0b6",
   "metadata": {},
   "outputs": [
    {
     "data": {
      "text/plain": [
       "0.40680796565539457"
      ]
     },
     "execution_count": 24,
     "metadata": {},
     "output_type": "execute_result"
    }
   ],
   "source": [
    "getQED('CCO')"
   ]
  },
  {
   "cell_type": "code",
   "execution_count": 25,
   "id": "ffdabee0",
   "metadata": {},
   "outputs": [],
   "source": [
    "def GetSAS(smi):\n",
    "    molecule = Chem.MolFromSmiles(smi)\n",
    "    return calculateScore(molecule)\n",
    "    "
   ]
  },
  {
   "cell_type": "code",
   "execution_count": 26,
   "id": "9c220aca",
   "metadata": {},
   "outputs": [
    {
     "data": {
      "text/plain": [
       "1.9802570386349831"
      ]
     },
     "execution_count": 26,
     "metadata": {},
     "output_type": "execute_result"
    }
   ],
   "source": [
    "GetSAS('CCO')"
   ]
  },
  {
   "cell_type": "code",
   "execution_count": 28,
   "id": "2e5f8b42",
   "metadata": {},
   "outputs": [],
   "source": [
    "def GetGoodDrugs(smiles):\n",
    "    arr1= []\n",
    "    arr2= []\n",
    "    arr3= []\n",
    "    arr4= []\n",
    "    arr5= []\n",
    "    final = []\n",
    "    for smile in smiles:\n",
    "        if GetMolW(smile) <= 500:\n",
    "            arr1.append(smile)\n",
    "    for smile in arr1:\n",
    "        if getHbondDonors(smile) <=5:\n",
    "            arr2.append(smile)\n",
    "    for smile in arr2:\n",
    "        if getHbondAcceptors(smile) <=10:\n",
    "            arr3.append(smile)\n",
    "    for smile in arr3:\n",
    "        if getLogP(smile) <= 5:\n",
    "            arr4.append(smile)\n",
    "    for smile in arr4: \n",
    "        if getQED(smile) >= 0.65:\n",
    "            arr5.append(smile)\n",
    "    for smile in arr5:\n",
    "        if GetSAS(smile) <=3.5:\n",
    "            final.append(smile)\n",
    "            \n",
    "    return final\n",
    "    "
   ]
  },
  {
   "cell_type": "code",
   "execution_count": 30,
   "id": "6739782b",
   "metadata": {},
   "outputs": [],
   "source": [
    "listofsmiles = ['O=C1Nc2cc(NC(=O)c3c[nH]cc(-c4ccc(C(F)(F)F)cc4)c3=O)ccc2C1=Cc1ccc[nH]1','CC(NC(=O)Nc1cc2[nH]nc(N3CC(C(C)(C)O)C3)c2cn1)c1ccccc1','N=C(N)C1CCCC(NC(=O)CN2CCCCC(NS(=O)(=O)c3ccccc3)C2=O)C1O','CCN1C(C(=O)NC(Cc2ccccc2)C(=O)C(=O)NCCCN2CCCC2=O)Cc2cc3c(cc2S1(=O)=O)OCCO3','COCC(=O)NC1CCC(CCN2CCC(c3cccc4occc34)CC2)CC1','O=C(c1cc(-c2ccc3[nH]ncc3c2)on1)N1CCCCC1','CN(c1ccc(C(O)(C(F)(F)F)C(F)(F)F)cc1)S(=O)(=O)c1cccc(F)c1','CC1(C)Cc2ccccc2N1C(=O)CN1CCN(Cc2ccc(Cl)cc2)CC1','CCC(C)C(=O)C1CCC2C3CCC4NC(=O)C=CC4(C)C3CCC12C','C=CCc1cnc(Cc2cc(C3OC(CO)C(O)C(O)C3O)ccc2Cl)s1','CC(C)CC(NC(=O)c1ccc(N2CCN(C)CC2)cc1)C(=O)N1CCC2OCC(=O)C21','CCOc1ccc(-c2cccc(S(=O)(=O)NC(Cc3cccc(C(=N)N)c3)C(=O)N3CCC(CCN)CC3)c2)cc1','COC(=O)C1OC(SNCc2ccc(S(N)(=O)=O)cc2)C(OC(C)=O)C(OC(C)=O)C1OC(C)=O','Cc1noc(C)c1CCC1CCN(S(=O)(=O)CC2(N(O)C=O)CCCCCC2)CC1','CCC(=O)NCC1CCCc2c1c1cc(OC(F)(F)F)ccc1n2C','Cc1ccnc(-c2nc3cc(F)cc(F)c3c(N3CC4(CCOCC4)c4ncc(N5CCOCC5)cc43)c2C)c1','CC1CN(Cc2cccc(-c3cc(CNC(=O)c4cccc(CN5CCNCC5)c4)ccc3F)c2)CCN1','O=C(O)C1CCCCC1NC(=O)C1CCCN1S(=O)(=O)c1cc(Cl)cc(Cl)c1','CCCCC(CC)C(=O)OCC1(CO)CC(=Cc2ccccc2C(F)(F)F)C(=O)O1','COc1cc(C(=O)NC2(C(=O)NC(C)c3ccc(-c4cc(Cl)cc(F)c4-c4nnn(C)n4)cc3F)COC2)on1','O=S(=O)(c1cccc2ccccc12)n1ccc2c(N3CCNCC3)c(Cl)ccc21','Cn1c(=O)c2c(nc(OCc3cccc(C(F)(F)F)c3)n2C)n(C)c1=O','CCNC(=O)c1noc(-c2cc(C(C)C)c(O)cc2O)c1-c1ccc(CN2CCCCC2)cc1','COc1ccccc1NC(=O)N1CCN(Cc2ccc(Br)c(Br)c2)CC1','CCn1c(=O)c2cn[nH]c2c2ccc(-c3ccccc3CN(C)C)cc21','COc1ccc(C(=O)NCC(c2ccccc2)N2CCN(CC(O)COc3ccc(Cl)cc3)CC2)cc1','CCCCC(CC(CCc1ccc(-c2ccc(C=O)cc2)cc1)C(=O)NC(C(=O)NC)C(C)(C)C)C(=O)O','CN1C2CCC1C(c1cnc(Cl)c(-c3ccccc3)c1)C2','Cc1cc(O)cc(C)c1CC(N)C(=O)NCCc1nc(O)c(CCNC(=O)C(N)Cc2c(C)cc(O)cc2C)nc1C','CC1(c2cc(NC(=O)c3cnc(-c4ncco4)cn3)ccc2F)C=CSC(N)=N1','COc1ccc(C(F)(F)F)cc1-c1cccn2nc(Nc3ccc4c(c3)CCN(CC(=O)N(C)C)C4)nc12','O=C(CCCN1C2CCC1c1c([nH]c3ccccc13)C2)c1cccs1','N=C(N)Nc1ncc(Cl)c2ccc(-c3cccc(C(=O)O)c3)cc12','CC(C)CCn1c(=O)c(C2=NS(=O)(=O)c3cc(OC(C)C(N)=O)ccc3N2)c(O)c2cccnc21','CCC1(O)C(=O)OCc2c1cc1n(c2=O)Cc2c-1nc1ccccc1c2C=Nc1ccccc1C','COC(=O)c1ccc2nc(Nc3c(C)cccc3Cl)c3cncn3c2c1','Cc1cc(NC(C)C)nc2ccc(NC(=O)COc3ccc(C(F)(F)F)cc3)cc12','NS(=O)(=O)c1ccc(NC(S)=NC(CCC(=O)O)C(=O)O)cc1','CC(C)(C)C1(O)CCN(CC2c3ccccc3C=Cc3ccccc32)CC1','CC(C)C(=O)NC1CC2(O)C3Cc4ccc(O)cc4C2(CCN3CC2CC2)CC1=O','CCOC(=O)c1cncc(-c2cccc(C(C)Nc3cc(-c4ccc5occ(C)c5c4)nc(C)n3)c2)c1','COc1ccc2c(c1)C(c1ccc(Cl)cc1)=NC(CC(=O)Nc1cccs1)c1nnc(C)n1-2','CC(CNc1ccc(C(=O)O)cc1)NCC(O)c1cccc(Cl)c1','CN(C)CCNc1ccc2c(=O)n(CCN(C)C)c(=O)n3c4ccccc4c(=O)c1c23','CC(C)Oc1ccc(-c2cc3ncccc3c(OCC3CNC(=O)C3)n2)cc1','Nc1ncnc2c1ncn2C1OC(C(=O)NC23CC4CC(C2)C(C4)C3)C(O)C1O','O=C(c1cc(Br)c2c(c1)C(O)(C(F)(F)F)c1ccccc1-2)N1CCC1','NC(=O)C1C2C=CC(C2)C1Nc1nc(Nc2cnn(CC3CCCN3)c2)ncc1Cl','COc1cc(OCc2csc(N3CCN(c4ccccc4)CC3)n2)c2cc(-c3cn4nc(C)ccc4n3)oc2c1','O=C(O)c1ccc(-c2ccc(Cl)c(OC3OC(CO)C(O)C(O)C3O)c2)cc1','CC(C)(C)n1ncc2c1C(=O)NC1(CCN(C(=O)c3ccc4n[nH]cc4c3)CC1)C2','O=C1C(SCCO)=C(SCCO)C(=O)N1c1ccc(-c2ccccc2)cc1','O=C1C2CCCCN2C(=O)N1CCCCN1CCN(c2ccccc2)CC1','COc1noc2c(F)c3c(cc12)CC1(C(=O)NC(=O)NC1=O)C1C(C)OC(C)CN31','CN(C)CCNC(=O)c1cccc(Nc2nc3cc(C(=O)O)ccc3c3sccc23)c1','CCN(c1ccc(OCC(C)C)c(C(C)C)c1)c1ccc(C(=O)O)cn1','CCCOc1ccc(-c2ccc(-c3ccccc3Cl)n2CC(=O)N=C(N)NCc2cccs2)cc1','OC(CN1CCN(C(c2ccccc2)c2ccccc2)CC1)Cn1cnc2c(-n3cccn3)ncnc21','COc1ccccc1N1CCN(CCCCn2nc(-n3ccnc3)ccc2=O)CC1','CC(C)(C)c1ccc(NC(=O)c2cccc(N3CCc4nc(N)ncc4C3)c2)cc1','CC(C)(N)c1cc2nc(-c3cnc(N)nc3)nc(N3CCOCC3)c2s1','CCc1cc(C(=O)O)c(NC(=O)c2ccc([N+](=O)[O-])o2)s1','O=C(Nc1ccc(I)cc1)c1ccc(Cl)[n+]([O-])c1','O=C(CCCCCCc1ccccc1)c1nc(C(F)(F)F)co1','Cc1scnc1C(=O)Nc1ccc(N2Cc3c(Cl)cccc3C2=O)c(Cl)c1','NC(=Nc1ccc2ccn(CCCN3CCOCC3)c2c1)c1cccs1','O=S(=O)(CC(F)(F)F)N(Cc1cccnc1)c1cccc(OC2CCC2)c1','CCOC(=O)C1CCC2(CC1)OOC1(OO2)C2CC3CC(C2)CC1C3','OC1(c2ccccc2)CCN(Cc2cc3ccccc3s2)CC1','N#Cc1cccc(-c2nc(N)c3cc(CN4CCOCC4)sc3n2)c1','CC(C)n1cc(C(=O)c2cncc(NC(=O)Cn3cnc(Cl)c3Cl)c2)c2cncnc21','CN(C)CCn1c(=O)c2ccc3c4c(nn3CCN3CCCC3)-c3ccccc3-n(c1=O)c24','CCOC(=O)c1cn2ncnc(Nc3ccc(Br)c(C(=O)NOC)c3)c2c1C(C)C','CC(O)c1ccc(-c2c(O)ccc3[nH]c(=O)c4sccc4c23)cc1','CC(Nc1nc(NCCc2ccc(S(N)(=O)=O)cc2)nc(NC(C)C(=O)O)n1)C(=O)O','CC(=O)Nc1cccc(-c2ccc(C(O)(c3c[nH]cn3)C(C)C)cc2)n1','CC1(N2CCc3c(-c4cnc(N)nc4)nc(N4CCOCC4)nc32)CCN(C(=O)CC(F)(F)F)C1','CCCCCC(O)c1ccc(OCc2ccc3ccccc3n2)cc1','CC(Cc1ccccn1)N1C(=O)c2ccccc2C1C(=O)NCc1ccc(OC(F)(F)F)cc1','CC(Nc1cc(F)cc(F)c1)c1cc(C(=O)N2CCSCC2)cc2c(=O)cc(N3CCOCC3)oc12','OC1C(CCl)OC(n2cnc3c(NC4CCCC4)nc(Cl)nc32)C1O','COc1ccc2cccc(OCC(=O)NCC(O)CN3CCc4ccccc4C3)c2n1','C=C(c1cc(Cl)cc(Cl)c1OCC(O)CNC(C)(C)C)n1ccnc1','O=C(O)CCC(c1nc2ccccc2o1)n1cc(C=CC(=O)NO)nn1','COc1cccc(OC)c1-c1cccc2c1CCC(N(C)C)C2','Nc1nc(OC(c2ccccc2-c2ccco2)C(F)(F)F)cc(-c2ccc(CC(N)C(=O)O)cc2)n1','COc1ccccc1-n1nc(C)c2c1C(=O)N(c1cc(C)c3nnc(C)n3c1)C2c1ccc(F)cc1F','Cc1noc(-c2ccccc2C(=O)NC2CCCC2Nc2ncc(C(F)(F)F)cc2F)n1','COc1ccc(NC(C)=O)c(OCC(N)CN2CCC3(CC2)Cc2cc(Cl)ccc2O3)c1','O=[N+]([O-])c1cccc(N2CCN(c3ncc(C(O)(C(F)(F)F)C(F)(F)F)s3)CC2)c1','Cn1ncc(Br)c1-c1cc(NC(=O)Nc2ccc(Cl)cc2)ccc1O','FC(F)Oc1ccc(-c2nnc3cncc(Oc4ccc(C(F)(F)F)cc4)n23)cc1','COC(=O)NC1CCC2(C)C(=CCC3C2CCC2(C)C(n4ccnc4)=CCC32)C1','COc1cc(-c2cc3ncccc3c(OC(C)C3CNC(=O)C3)n2)cc(OC)c1Cl','CC1CN(c2sc(C(F)(F)F)nc2-c2nc3ccccc3[nH]2)CCN1C(=O)Cn1cnc2c1CN(C)CC2','COc1cc(C2c3cc4c(cc3C=C(C=NNc3ccccc3)C2CO)OCO4)cc(OC)c1OC','O=c1[nH]nc2c3cc(CN4CCC(O)CC4)ccc3oc3cccc1c32','O=C(COc1cccc(Cl)c1)NC1CCN(Cc2ccc3ccccc3c2)CC1','C#Cc1cc(C)cc(N2C(=O)c3ccccc3C2(O)c2ccc3[nH]c(NC(=O)OC)nc3c2)c1','Cc1[nH]nc2c1N=C(c1ccccc1)c1cc(F)ccc1N2']"
   ]
  },
  {
   "cell_type": "code",
   "execution_count": 34,
   "id": "1d86b3d8",
   "metadata": {},
   "outputs": [
    {
     "data": {
      "text/plain": [
       "['COCC(=O)NC1CCC(CCN2CCC(c3cccc4occc34)CC2)CC1',\n",
       " 'O=C(c1cc(-c2ccc3[nH]ncc3c2)on1)N1CCCCC1',\n",
       " 'CN(c1ccc(C(O)(C(F)(F)F)C(F)(F)F)cc1)S(=O)(=O)c1cccc(F)c1',\n",
       " 'CC1(C)Cc2ccccc2N1C(=O)CN1CCN(Cc2ccc(Cl)cc2)CC1',\n",
       " 'CC(C)CC(NC(=O)c1ccc(N2CCN(C)CC2)cc1)C(=O)N1CCC2OCC(=O)C21',\n",
       " 'CCC(=O)NCC1CCCc2c1c1cc(OC(F)(F)F)ccc1n2C',\n",
       " 'O=C(O)C1CCCCC1NC(=O)C1CCCN1S(=O)(=O)c1cc(Cl)cc(Cl)c1',\n",
       " 'Cn1c(=O)c2c(nc(OCc3cccc(C(F)(F)F)c3)n2C)n(C)c1=O',\n",
       " 'COc1ccccc1NC(=O)N1CCN(Cc2ccc(Br)c(Br)c2)CC1',\n",
       " 'CC(C)Oc1ccc(-c2cc3ncccc3c(OCC3CNC(=O)C3)n2)cc1',\n",
       " 'O=C(c1cc(Br)c2c(c1)C(O)(C(F)(F)F)c1ccccc1-2)N1CCC1',\n",
       " 'O=C1C(SCCO)=C(SCCO)C(=O)N1c1ccc(-c2ccccc2)cc1',\n",
       " 'CC(C)(C)c1ccc(NC(=O)c2cccc(N3CCc4nc(N)ncc4C3)c2)cc1',\n",
       " 'CC(C)(N)c1cc2nc(-c3cnc(N)nc3)nc(N3CCOCC3)c2s1',\n",
       " 'O=S(=O)(CC(F)(F)F)N(Cc1cccnc1)c1cccc(OC2CCC2)c1',\n",
       " 'OC1(c2ccccc2)CCN(Cc2cc3ccccc3s2)CC1',\n",
       " 'N#Cc1cccc(-c2nc(N)c3cc(CN4CCOCC4)sc3n2)c1',\n",
       " 'CC(=O)Nc1cccc(-c2ccc(C(O)(c3c[nH]cn3)C(C)C)cc2)n1',\n",
       " 'C=C(c1cc(Cl)cc(Cl)c1OCC(O)CNC(C)(C)C)n1ccnc1',\n",
       " 'COc1cccc(OC)c1-c1cccc2c1CCC(N(C)C)C2']"
      ]
     },
     "execution_count": 34,
     "metadata": {},
     "output_type": "execute_result"
    }
   ],
   "source": [
    "GetGoodDrugs(listofsmiles)"
   ]
  },
  {
   "cell_type": "code",
   "execution_count": 35,
   "id": "8d4c472b",
   "metadata": {},
   "outputs": [],
   "source": [
    "def get_metrics(Smiles):\n",
    "    val = len(validate_mols(Smiles))/len(Smiles)#between 0 and 1, 1 being all smiles are valid\n",
    "    uniqueness = len(list(set(Smiles)))/len(Smiles)#same\n",
    "    #define other metrics here\n",
    "    return {\"Validity\":val,\"Uniqueness\":uniqueness}"
   ]
  },
  {
   "cell_type": "markdown",
   "id": "e50ee396",
   "metadata": {},
   "source": [
    "# Loading the model"
   ]
  },
  {
   "cell_type": "code",
   "execution_count": null,
   "id": "80b9dbcb",
   "metadata": {},
   "outputs": [],
   "source": []
  },
  {
   "cell_type": "code",
   "execution_count": null,
   "id": "c2dc7306",
   "metadata": {},
   "outputs": [],
   "source": [
    "from transformers import GPT2Tokenizer, GPT2LMHeadModel\n",
    "\n",
    "# Load the fine-tuned model and tokenizer\n",
    "model = GPT2LMHeadModel.from_pretrained('fine_tuned_gpt2_smiles')\n",
    "tokenizer = GPT2Tokenizer.from_pretrained('fine_tuned_gpt2_smiles')\n",
    "\n",
    "# Ensure the pad token is set\n",
    "tokenizer.pad_token = tokenizer.eos_token\n",
    "\n",
    "num_smiles = 3\n",
    "generated_smiles_list = []\n",
    "\n",
    "for _ in tqdm(range(num_smiles)):\n",
    "    input_ids = tokenizer.encode('<BOS>', return_tensors='pt')\n",
    "    attention_mask = input_ids.ne(tokenizer.pad_token_id).long()\n",
    "    \n",
    "    generated_ids = model.generate(\n",
    "        input_ids, \n",
    "        attention_mask=attention_mask, \n",
    "        max_length=100, \n",
    "        temperature=1.0, \n",
    "        top_k=50, \n",
    "        top_p=0.95, \n",
    "        do_sample=True,\n",
    "        pad_token_id=tokenizer.eos_token_id\n",
    "    )\n",
    "    \n",
    "    generated_smiles = tokenizer.decode(generated_ids[0], skip_special_tokens=True)\n",
    "    generated_smiles_list.append(generated_smiles)\n",
    "generated_smiles_list = curate(generated_smiles_list)\n",
    "\n",
    "print(generated_smiles_list)\n"
   ]
  },
  {
   "cell_type": "code",
   "execution_count": null,
   "id": "aedbbebd",
   "metadata": {},
   "outputs": [],
   "source": [
    "mols = smi_to_mols(generated_smiles_list)\n",
    "len(mols)"
   ]
  },
  {
   "cell_type": "code",
   "execution_count": null,
   "id": "e32884e8",
   "metadata": {},
   "outputs": [],
   "source": [
    "for m in mols:\n",
    "    print(calculateScore(m))"
   ]
  },
  {
   "cell_type": "code",
   "execution_count": null,
   "id": "16876e18",
   "metadata": {},
   "outputs": [],
   "source": [
    "\n",
    "# Example usage\n",
    "pdb_file = '8pn6.pdb'\n",
    "binding_site_residues = [50, 51, 52, 53, 54, 55]  # Replace with your binding site residues\n",
    "chain_id = 'A'  # Adjust if necessary\n",
    "\n",
    "center, size = calculate_center_and_size(pdb_file, binding_site_residues, chain_id)\n",
    "print(f\"Center: {center}\")\n",
    "print(f\"Size: {size}\")\n"
   ]
  },
  {
   "cell_type": "code",
   "execution_count": null,
   "id": "548d5e24",
   "metadata": {},
   "outputs": [],
   "source": [
    "import subprocess\n",
    "\n",
    "# Convert SMILES to 3D structure and save as PDB\n",
    "smiles = \"CCO\"  # Example SMILES for ethanol\n",
    "mol = Chem.MolFromSmiles(smiles)\n",
    "mol = Chem.AddHs(mol)\n",
    "AllChem.EmbedMolecule(mol, AllChem.ETKDG())\n",
    "AllChem.UFFOptimizeMolecule(mol)\n",
    "Chem.MolToPDBFile(mol, \"ligand.pdb\")\n",
    "mgltools_path = r'C:\\Program Files (x86)\\MGLTools-1.5.7\\Lib\\site-packages\\AutoDockTools'\n",
    "\n",
    "# Convert PDB to PDBQT using MGLTools\n",
    "subprocess.run([\"python\", f\"{mgltools_path}\\\\Utilities24\\\\prepare_ligand4.py\", \"-l\", \"ligand.pdb\", \"-o\", \"ligand.pdbqt\"])\n",
    "subprocess.run([\"python\", f\"{mgltools_path}\\\\Utilities24\\\\prepare_receptor4.py\", \"-r\", \"8pn6.pdb\", \"-o\", \"8pn6.pdbqt\"])\n",
    "\n",
    "# Create Vina configuration file\n",
    "config = \"\"\"\n",
    "receptor = 8pn6.pdbqt\n",
    "ligand = ligand.pdbqt\n",
    "center_x = -26.03602\n",
    "center_y = 14.734461\n",
    "center_z = -14.99357\n",
    "size_x = 14.377998\n",
    "size_y = 16.296\n",
    "size_z = 18.43\n",
    "\"\"\"\n",
    "\n",
    "with open(\"config.txt\", \"w\") as file:\n",
    "    file.write(config)\n",
    "\n",
    "# Run AutoDock Vina\n",
    "command = [\n",
    "    \"vina\",\n",
    "    \"--config\", \"config.txt\",\n",
    "    \"--log\", \"log.txt\",\n",
    "    \"--out\", \"out.pdbqt\"\n",
    "]\n",
    "\n",
    "subprocess.run(command)\n",
    "\n",
    "# Analyze the results (optional, for example purposes)\n",
    "with open(\"log.txt\") as log_file:\n",
    "    print(log_file.read())"
   ]
  },
  {
   "cell_type": "code",
   "execution_count": null,
   "id": "17d65678",
   "metadata": {},
   "outputs": [],
   "source": []
  }
 ],
 "metadata": {
  "kernelspec": {
   "display_name": "Python 3 (ipykernel)",
   "language": "python",
   "name": "python3"
  },
  "language_info": {
   "codemirror_mode": {
    "name": "ipython",
    "version": 3
   },
   "file_extension": ".py",
   "mimetype": "text/x-python",
   "name": "python",
   "nbconvert_exporter": "python",
   "pygments_lexer": "ipython3",
   "version": "3.9.12"
  }
 },
 "nbformat": 4,
 "nbformat_minor": 5
}
